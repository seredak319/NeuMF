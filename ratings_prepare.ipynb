{
 "cells": [
  {
   "cell_type": "markdown",
   "id": "bddaa109-d9aa-4d83-99d2-21a0bd814a0b",
   "metadata": {},
   "source": [
    "#### Import operation data (ratings_small.csv)"
   ]
  },
  {
   "cell_type": "code",
   "execution_count": 1,
   "id": "35f8e7f5-1fe9-4dcf-a1dc-1bae2e21c8ee",
   "metadata": {},
   "outputs": [],
   "source": [
    "import datetime\n",
    "import os\n",
    "\n",
    "import numpy as np\n",
    "import pandas as pd\n",
    "import tensorflow as tf\n",
    "from scipy import sparse\n",
    "from typing import List\n",
    "import matplotlib.pyplot as plt\n",
    "import seaborn as sns\n",
    "import warnings\n",
    "warnings.filterwarnings(\"ignore\")"
   ]
  },
  {
   "cell_type": "code",
   "execution_count": 2,
   "id": "39351f12-3b86-4d34-b879-3418a789b0a0",
   "metadata": {},
   "outputs": [],
   "source": [
    "# ratings_small.csv - memory usage: 3.1 MB\n",
    "# ratings.csv - memory usage: 794.2 MB\n",
    "\n",
    "ratings_small = pd.read_csv('C:/Users/Krystian/OneDrive - Politechnika Warszawska/sem6/proj inz/The Movies Dataset/data/ratings_small.csv', low_memory=False)\n",
    "cleaned_movies_metadata = pd.read_csv('data/cleaned_movies_metadata.csv', low_memory=False)"
   ]
  },
  {
   "cell_type": "code",
   "execution_count": 3,
   "id": "c5bdcfbd-25de-460f-a6ec-af165811fe9a",
   "metadata": {},
   "outputs": [
    {
     "data": {
      "text/html": [
       "<div>\n",
       "<style scoped>\n",
       "    .dataframe tbody tr th:only-of-type {\n",
       "        vertical-align: middle;\n",
       "    }\n",
       "\n",
       "    .dataframe tbody tr th {\n",
       "        vertical-align: top;\n",
       "    }\n",
       "\n",
       "    .dataframe thead th {\n",
       "        text-align: right;\n",
       "    }\n",
       "</style>\n",
       "<table border=\"1\" class=\"dataframe\">\n",
       "  <thead>\n",
       "    <tr style=\"text-align: right;\">\n",
       "      <th></th>\n",
       "      <th>userId</th>\n",
       "      <th>movieId</th>\n",
       "      <th>rating</th>\n",
       "      <th>timestamp</th>\n",
       "    </tr>\n",
       "  </thead>\n",
       "  <tbody>\n",
       "    <tr>\n",
       "      <th>0</th>\n",
       "      <td>1</td>\n",
       "      <td>31</td>\n",
       "      <td>2.5</td>\n",
       "      <td>1260759144</td>\n",
       "    </tr>\n",
       "    <tr>\n",
       "      <th>1</th>\n",
       "      <td>1</td>\n",
       "      <td>1029</td>\n",
       "      <td>3.0</td>\n",
       "      <td>1260759179</td>\n",
       "    </tr>\n",
       "    <tr>\n",
       "      <th>2</th>\n",
       "      <td>1</td>\n",
       "      <td>1061</td>\n",
       "      <td>3.0</td>\n",
       "      <td>1260759182</td>\n",
       "    </tr>\n",
       "    <tr>\n",
       "      <th>3</th>\n",
       "      <td>1</td>\n",
       "      <td>1129</td>\n",
       "      <td>2.0</td>\n",
       "      <td>1260759185</td>\n",
       "    </tr>\n",
       "    <tr>\n",
       "      <th>4</th>\n",
       "      <td>1</td>\n",
       "      <td>1172</td>\n",
       "      <td>4.0</td>\n",
       "      <td>1260759205</td>\n",
       "    </tr>\n",
       "  </tbody>\n",
       "</table>\n",
       "</div>"
      ],
      "text/plain": [
       "   userId  movieId  rating   timestamp\n",
       "0       1       31     2.5  1260759144\n",
       "1       1     1029     3.0  1260759179\n",
       "2       1     1061     3.0  1260759182\n",
       "3       1     1129     2.0  1260759185\n",
       "4       1     1172     4.0  1260759205"
      ]
     },
     "execution_count": 3,
     "metadata": {},
     "output_type": "execute_result"
    }
   ],
   "source": [
    "ratings_small.head()"
   ]
  },
  {
   "cell_type": "code",
   "execution_count": 4,
   "id": "8412f6c3-36fd-47b3-8cc8-7958ec6889fe",
   "metadata": {},
   "outputs": [
    {
     "name": "stdout",
     "output_type": "stream",
     "text": [
      "<class 'pandas.core.frame.DataFrame'>\n",
      "RangeIndex: 100004 entries, 0 to 100003\n",
      "Data columns (total 4 columns):\n",
      " #   Column     Non-Null Count   Dtype  \n",
      "---  ------     --------------   -----  \n",
      " 0   userId     100004 non-null  int64  \n",
      " 1   movieId    100004 non-null  int64  \n",
      " 2   rating     100004 non-null  float64\n",
      " 3   timestamp  100004 non-null  int64  \n",
      "dtypes: float64(1), int64(3)\n",
      "memory usage: 3.1 MB\n"
     ]
    }
   ],
   "source": [
    "ratings_small.info()"
   ]
  },
  {
   "cell_type": "code",
   "execution_count": 5,
   "id": "57ef532d-2df1-487a-8f46-7d66b027bc13",
   "metadata": {},
   "outputs": [
    {
     "data": {
      "text/html": [
       "<div>\n",
       "<style scoped>\n",
       "    .dataframe tbody tr th:only-of-type {\n",
       "        vertical-align: middle;\n",
       "    }\n",
       "\n",
       "    .dataframe tbody tr th {\n",
       "        vertical-align: top;\n",
       "    }\n",
       "\n",
       "    .dataframe thead th {\n",
       "        text-align: right;\n",
       "    }\n",
       "</style>\n",
       "<table border=\"1\" class=\"dataframe\">\n",
       "  <thead>\n",
       "    <tr style=\"text-align: right;\">\n",
       "      <th></th>\n",
       "      <th>userId</th>\n",
       "      <th>movieId</th>\n",
       "      <th>rating</th>\n",
       "      <th>timestamp</th>\n",
       "    </tr>\n",
       "  </thead>\n",
       "  <tbody>\n",
       "    <tr>\n",
       "      <th>count</th>\n",
       "      <td>100004.000000</td>\n",
       "      <td>100004.000000</td>\n",
       "      <td>100004.000000</td>\n",
       "      <td>1.000040e+05</td>\n",
       "    </tr>\n",
       "    <tr>\n",
       "      <th>mean</th>\n",
       "      <td>347.011310</td>\n",
       "      <td>12548.664363</td>\n",
       "      <td>3.543608</td>\n",
       "      <td>1.129639e+09</td>\n",
       "    </tr>\n",
       "    <tr>\n",
       "      <th>std</th>\n",
       "      <td>195.163838</td>\n",
       "      <td>26369.198969</td>\n",
       "      <td>1.058064</td>\n",
       "      <td>1.916858e+08</td>\n",
       "    </tr>\n",
       "    <tr>\n",
       "      <th>min</th>\n",
       "      <td>1.000000</td>\n",
       "      <td>1.000000</td>\n",
       "      <td>0.500000</td>\n",
       "      <td>7.896520e+08</td>\n",
       "    </tr>\n",
       "    <tr>\n",
       "      <th>25%</th>\n",
       "      <td>182.000000</td>\n",
       "      <td>1028.000000</td>\n",
       "      <td>3.000000</td>\n",
       "      <td>9.658478e+08</td>\n",
       "    </tr>\n",
       "    <tr>\n",
       "      <th>50%</th>\n",
       "      <td>367.000000</td>\n",
       "      <td>2406.500000</td>\n",
       "      <td>4.000000</td>\n",
       "      <td>1.110422e+09</td>\n",
       "    </tr>\n",
       "    <tr>\n",
       "      <th>75%</th>\n",
       "      <td>520.000000</td>\n",
       "      <td>5418.000000</td>\n",
       "      <td>4.000000</td>\n",
       "      <td>1.296192e+09</td>\n",
       "    </tr>\n",
       "    <tr>\n",
       "      <th>max</th>\n",
       "      <td>671.000000</td>\n",
       "      <td>163949.000000</td>\n",
       "      <td>5.000000</td>\n",
       "      <td>1.476641e+09</td>\n",
       "    </tr>\n",
       "  </tbody>\n",
       "</table>\n",
       "</div>"
      ],
      "text/plain": [
       "              userId        movieId         rating     timestamp\n",
       "count  100004.000000  100004.000000  100004.000000  1.000040e+05\n",
       "mean      347.011310   12548.664363       3.543608  1.129639e+09\n",
       "std       195.163838   26369.198969       1.058064  1.916858e+08\n",
       "min         1.000000       1.000000       0.500000  7.896520e+08\n",
       "25%       182.000000    1028.000000       3.000000  9.658478e+08\n",
       "50%       367.000000    2406.500000       4.000000  1.110422e+09\n",
       "75%       520.000000    5418.000000       4.000000  1.296192e+09\n",
       "max       671.000000  163949.000000       5.000000  1.476641e+09"
      ]
     },
     "execution_count": 5,
     "metadata": {},
     "output_type": "execute_result"
    }
   ],
   "source": [
    "ratings_small.describe()"
   ]
  },
  {
   "cell_type": "markdown",
   "id": "9b504284-b600-471a-8089-4f799d16972c",
   "metadata": {},
   "source": [
    "#### Check nulls and duplicates"
   ]
  },
  {
   "cell_type": "code",
   "execution_count": 6,
   "id": "8b2effd5-a380-4761-b242-2b96c7363ea6",
   "metadata": {},
   "outputs": [
    {
     "name": "stdout",
     "output_type": "stream",
     "text": [
      "userId       0\n",
      "movieId      0\n",
      "rating       0\n",
      "timestamp    0\n",
      "dtype: int64\n",
      "0\n"
     ]
    }
   ],
   "source": [
    "print(ratings_small.isnull().sum())\n",
    "print(ratings_small.duplicated().sum())"
   ]
  },
  {
   "cell_type": "markdown",
   "id": "eb39bb4a-f848-4242-b21e-74646a0f34f2",
   "metadata": {},
   "source": [
    "### Check numbers of unique values for columns"
   ]
  },
  {
   "cell_type": "code",
   "execution_count": 7,
   "id": "3f1fc453-80ff-4f0b-a044-0f65f8a5333c",
   "metadata": {},
   "outputs": [
    {
     "name": "stdout",
     "output_type": "stream",
     "text": [
      "number of unique users:  671\n",
      "number of unique items:  9066\n"
     ]
    }
   ],
   "source": [
    "print(\"number of unique users: \", len(ratings_small['userId'].unique()))\n",
    "print(\"number of unique items: \", len(ratings_small['movieId'].unique()))"
   ]
  },
  {
   "cell_type": "markdown",
   "id": "2f8d2e9f-27a4-40a7-8afe-6061371927ed",
   "metadata": {},
   "source": [
    "#### Visualization"
   ]
  },
  {
   "cell_type": "code",
   "execution_count": 8,
   "id": "fc567c41-53f9-4ad7-ac9c-2e66a81f7340",
   "metadata": {},
   "outputs": [
    {
     "data": {
      "image/png": "[encoded data removed]",
      "text/plain": [
       "<Figure size 800x600 with 1 Axes>"
      ]
     },
     "metadata": {},
     "output_type": "display_data"
    },
    {
     "data": {
      "image/png": "[encoded data removed]",
      "text/plain": [
       "<Figure size 800x600 with 1 Axes>"
      ]
     },
     "metadata": {},
     "output_type": "display_data"
    },
    {
     "data": {
      "image/png": "[encoded data removed]",
      "text/plain": [
       "<Figure size 800x600 with 1 Axes>"
      ]
     },
     "metadata": {},
     "output_type": "display_data"
    }
   ],
   "source": [
    "plt.figure(figsize=(8, 6))\n",
    "sns.kdeplot(x='rating', data=ratings_small, fill=True, color='blue')\n",
    "plt.title('Rating Distribution')\n",
    "plt.xlabel('Rating')\n",
    "plt.ylabel('Density')\n",
    "plt.show()\n",
    "\n",
    "plt.figure(figsize=(8, 6))\n",
    "ratings_count = ratings_small['rating'].value_counts().sort_index()\n",
    "plt.bar(ratings_count.index, ratings_count.values, color='blue')\n",
    "plt.title('Count of Each Rating')\n",
    "plt.xlabel('Rating')\n",
    "plt.ylabel('Count')\n",
    "plt.show()\n",
    "\n",
    "plt.figure(figsize=(8, 6))\n",
    "plt.pie(ratings_count.values, labels=ratings_count.index, autopct='%1.1f%%', colors=plt.cm.Paired.colors)\n",
    "plt.title('Proportion of Each Rating')\n",
    "plt.show()"
   ]
  },
  {
   "cell_type": "markdown",
   "id": "bd2f3fe7-0fb0-451d-b614-5d077bdd99fb",
   "metadata": {},
   "source": [
    "#### Drop timestamp "
   ]
  },
  {
   "cell_type": "code",
   "execution_count": 9,
   "id": "9abee2e1-e5d2-43c1-9b49-1c0a8dbd3544",
   "metadata": {},
   "outputs": [
    {
     "data": {
      "text/html": [
       "<div>\n",
       "<style scoped>\n",
       "    .dataframe tbody tr th:only-of-type {\n",
       "        vertical-align: middle;\n",
       "    }\n",
       "\n",
       "    .dataframe tbody tr th {\n",
       "        vertical-align: top;\n",
       "    }\n",
       "\n",
       "    .dataframe thead th {\n",
       "        text-align: right;\n",
       "    }\n",
       "</style>\n",
       "<table border=\"1\" class=\"dataframe\">\n",
       "  <thead>\n",
       "    <tr style=\"text-align: right;\">\n",
       "      <th></th>\n",
       "      <th>userId</th>\n",
       "      <th>movieId</th>\n",
       "      <th>rating</th>\n",
       "    </tr>\n",
       "  </thead>\n",
       "  <tbody>\n",
       "    <tr>\n",
       "      <th>0</th>\n",
       "      <td>1</td>\n",
       "      <td>31</td>\n",
       "      <td>2.5</td>\n",
       "    </tr>\n",
       "    <tr>\n",
       "      <th>1</th>\n",
       "      <td>1</td>\n",
       "      <td>1029</td>\n",
       "      <td>3.0</td>\n",
       "    </tr>\n",
       "    <tr>\n",
       "      <th>2</th>\n",
       "      <td>1</td>\n",
       "      <td>1061</td>\n",
       "      <td>3.0</td>\n",
       "    </tr>\n",
       "    <tr>\n",
       "      <th>3</th>\n",
       "      <td>1</td>\n",
       "      <td>1129</td>\n",
       "      <td>2.0</td>\n",
       "    </tr>\n",
       "    <tr>\n",
       "      <th>4</th>\n",
       "      <td>1</td>\n",
       "      <td>1172</td>\n",
       "      <td>4.0</td>\n",
       "    </tr>\n",
       "  </tbody>\n",
       "</table>\n",
       "</div>"
      ],
      "text/plain": [
       "   userId  movieId  rating\n",
       "0       1       31     2.5\n",
       "1       1     1029     3.0\n",
       "2       1     1061     3.0\n",
       "3       1     1129     2.0\n",
       "4       1     1172     4.0"
      ]
     },
     "execution_count": 9,
     "metadata": {},
     "output_type": "execute_result"
    }
   ],
   "source": [
    "if 'timestamp' in ratings_small.columns:\n",
    "    ratings_small = ratings_small.drop(columns='timestamp')\n",
    "ratings_small.head(5)"
   ]
  },
  {
   "cell_type": "code",
   "execution_count": 10,
   "id": "e7d8bf62-79ec-42a3-96f5-d8512fda9be6",
   "metadata": {},
   "outputs": [
    {
     "name": "stdout",
     "output_type": "stream",
     "text": [
      "\ttop_10_most_ratings: \n",
      "\n",
      "     userId  ratings_count\n",
      "546     547           2391\n",
      "563     564           1868\n",
      "623     624           1735\n",
      "14       15           1700\n",
      "72       73           1610\n",
      "451     452           1340\n",
      "467     468           1291\n",
      "379     380           1063\n",
      "310     311           1019\n",
      "29       30           1011\n",
      "\n",
      "\n",
      "\ttop_10_least_ratings: \n",
      "\n",
      "     userId  ratings_count\n",
      "0         1             20\n",
      "13       14             20\n",
      "34       35             20\n",
      "75       76             20\n",
      "208     209             20\n",
      "220     221             20\n",
      "248     249             20\n",
      "288     289             20\n",
      "295     296             20\n",
      "309     310             20\n",
      "\n",
      "\n",
      "Max number of ratings that a user made:  2391\n",
      "Min number of ratings that a user made:  20\n",
      "Average ratings per user:  149.03725782414307\n"
     ]
    }
   ],
   "source": [
    "user_ratings_count = ratings_small.groupby('userId').size().reset_index(name='ratings_count')\n",
    "top_10_most_ratings = user_ratings_count.nlargest(10, 'ratings_count')\n",
    "top_10_least_ratings = user_ratings_count.nsmallest(10, 'ratings_count')\n",
    "average_ratings_per_user = user_ratings_count['ratings_count'].mean()\n",
    "\n",
    "print('\\ttop_10_most_ratings: \\n')\n",
    "print(top_10_most_ratings.head(10))\n",
    "\n",
    "\n",
    "print('\\n\\n\\ttop_10_least_ratings: \\n')\n",
    "print(top_10_least_ratings.head(10))\n",
    "\n",
    "print(\"\\n\\nMax number of ratings that a user made: \", top_10_most_ratings.iloc[0]['ratings_count'])\n",
    "print(\"Min number of ratings that a user made: \", top_10_least_ratings.iloc[-1]['ratings_count'])\n",
    "print(\"Average ratings per user: \", average_ratings_per_user)"
   ]
  },
  {
   "cell_type": "markdown",
   "id": "e5a2cd50-f623-424a-a481-329e95d2a3cd",
   "metadata": {},
   "source": [
    "#### Users per their mean ratings"
   ]
  },
  {
   "cell_type": "code",
   "execution_count": 11,
   "id": "19484fcf-9f51-4964-8051-ba4f39a4962f",
   "metadata": {},
   "outputs": [
    {
     "name": "stdout",
     "output_type": "stream",
     "text": [
      "\n",
      "high_ratings: \n",
      " userId\n",
      "46     4.948718\n",
      "443    4.850000\n",
      "298    4.800000\n",
      "448    4.750000\n",
      "622    4.725806\n",
      "Name: rating, dtype: float64\n",
      "\n",
      "low_ratings: \n",
      " userId\n",
      "579    1.333333\n",
      "581    1.459184\n",
      "207    1.804348\n",
      "609    1.985714\n",
      "429    2.240741\n",
      "Name: rating, dtype: float64\n",
      "\n",
      "\n",
      "bad_rating_user_id:  579\n",
      "good_rating_user_id:  46\n"
     ]
    }
   ],
   "source": [
    "mean_ratings = ratings_small.groupby('userId')['rating'].mean()\n",
    "mean_ratings.columns = ['userId', 'rating'] \n",
    "\n",
    "# low_ratings = mean_ratings.sort_values(by='rating').head()\n",
    "# high_ratings = mean_ratings.sort_values(by='rating', ascending=False).head()\n",
    "\n",
    "low_ratings = mean_ratings.sort_values().head()\n",
    "high_ratings = mean_ratings.sort_values( ascending=False).head()\n",
    "\n",
    "print(\"\\nhigh_ratings: \\n\", high_ratings)\n",
    "print(\"\\nlow_ratings: \\n\", low_ratings)\n",
    "\n",
    "bad_rating_user_id = low_ratings.index[0]\n",
    "good_rating_user_id = high_ratings.index[0]\n",
    "print(\"\\n\\nbad_rating_user_id: \", bad_rating_user_id)\n",
    "print(\"good_rating_user_id: \", good_rating_user_id)"
   ]
  },
  {
   "cell_type": "code",
   "execution_count": 12,
   "id": "d8813937-e464-48c8-bb12-09241bcc55ec",
   "metadata": {},
   "outputs": [
    {
     "data": {
      "image/png": "[encoded data removed]",
      "text/plain": [
       "<Figure size 800x400 with 1 Axes>"
      ]
     },
     "metadata": {},
     "output_type": "display_data"
    }
   ],
   "source": [
    "plt.figure(figsize=(8, 4))\n",
    "sns.histplot(mean_ratings, bins=10, kde=True, color='blue')\n",
    "plt.title('Histogram of Average Ratings per User')\n",
    "plt.xlabel('Average Rating')\n",
    "plt.ylabel('Frequency')\n",
    "plt.show()"
   ]
  },
  {
   "cell_type": "markdown",
   "id": "84508774-c3ad-47cf-9343-fc7f2ace4518",
   "metadata": {},
   "source": [
    "#### Lets see details for contrasting users "
   ]
  },
  {
   "cell_type": "code",
   "execution_count": 13,
   "id": "ae72c9cf-1ab8-4e01-bd79-5ba117e1afe5",
   "metadata": {},
   "outputs": [
    {
     "name": "stdout",
     "output_type": "stream",
     "text": [
      "Sample opinions of the user who rates the films the worst: \n",
      "\n",
      "       userId  movieId  rating\n",
      "86468     579       65     0.5\n",
      "86469     579       88     0.5\n",
      "86470     579     1013     2.0\n",
      "86471     579     1687     0.5\n",
      "86472     579     1892     0.5\n",
      "86473     579     2082     0.5\n",
      "86474     579     2139     0.5\n",
      "86475     579     2141     0.5\n",
      "86476     579     2193     0.5\n",
      "86477     579     2402     0.5\n",
      "\n",
      "\n",
      "Sample opinions of the user who rates the videos the best: \n",
      "\n",
      "      userId  movieId  rating\n",
      "7298      46       73     5.0\n",
      "7299      46      355     5.0\n",
      "7300      46      724     5.0\n",
      "7301      46     1270     5.0\n",
      "7302      46     1359     4.5\n",
      "7303      46     1515     5.0\n",
      "7304      46     1707     5.0\n",
      "7305      46     1965     5.0\n",
      "7306      46     2153     5.0\n",
      "7307      46     2379     5.0\n"
     ]
    }
   ],
   "source": [
    "print(\"Sample opinions of the user who rates the films the worst: \\n\")\n",
    "print(ratings_small[ratings_small['userId'] == bad_rating_user_id].head(10))\n",
    "\n",
    "print(\"\\n\\nSample opinions of the user who rates the videos the best: \\n\")\n",
    "print(ratings_small[ratings_small['userId'] == good_rating_user_id].head(10))"
   ]
  },
  {
   "cell_type": "code",
   "execution_count": 14,
   "id": "f0891208-3a62-4f4b-ad42-e9ec9ac156fc",
   "metadata": {},
   "outputs": [
    {
     "data": {
      "image/png": "[encoded data removed]",
      "text/plain": [
       "<Figure size 800x400 with 1 Axes>"
      ]
     },
     "metadata": {},
     "output_type": "display_data"
    }
   ],
   "source": [
    "combined_ratings = pd.concat([low_ratings, high_ratings])\n",
    "combined_ratings = combined_ratings.reset_index()\n",
    "combined_ratings.columns = ['userId', 'average_rating']\n",
    "combined_ratings = combined_ratings.sort_values(by='average_rating')\n",
    "plt.figure(figsize=(8, 4))\n",
    "sns.barplot(x='userId', y='average_rating', data=combined_ratings, palette='viridis', order=combined_ratings['userId'])\n",
    "plt.title('Users with Lowest and Highest Mean Ratings')\n",
    "plt.xlabel('User ID')\n",
    "plt.ylabel('Average Rating')\n",
    "plt.show()"
   ]
  },
  {
   "cell_type": "markdown",
   "id": "2781a5c0-06f3-478a-9f12-d10bcb250099",
   "metadata": {},
   "source": [
    "#### Clean data"
   ]
  },
  {
   "cell_type": "code",
   "execution_count": 15,
   "id": "fdfe2681-4215-4829-bcb3-ea81f9de7636",
   "metadata": {},
   "outputs": [
    {
     "name": "stdout",
     "output_type": "stream",
     "text": [
      "Initial number of users: 671\n",
      "Number of users after filtering: 671\n",
      "Reduction in number of users: 0\n",
      "\n",
      "Initial number of all ratings: 100004\n",
      "Number of ratings after filtering: 62106\n",
      "Reduction in number of ratings: 37898\n"
     ]
    }
   ],
   "source": [
    "initial_user_count = ratings_small['userId'].nunique()\n",
    "user_rating_counts = ratings_small.groupby('userId').size()\n",
    "filtered_users = user_rating_counts[user_rating_counts >= 20].index\n",
    "filtered_ratings = ratings_small[ratings_small['userId'].isin(filtered_users)]\n",
    "filtered_user_count = filtered_ratings['userId'].nunique()\n",
    "user_reduction = initial_user_count - filtered_user_count\n",
    "initial_ratings_count = ratings_small.shape[0]\n",
    "high_ratings = filtered_ratings[filtered_ratings['rating'] > 3]\n",
    "final_ratings_count = high_ratings.shape[0]\n",
    "ratings_reduction = initial_ratings_count - final_ratings_count\n",
    "\n",
    "movie_rating_counts = high_ratings.groupby('movieId').size()\n",
    "filtered_movies = movie_rating_counts[movie_rating_counts >= 20].index\n",
    "ratings_small = high_ratings[high_ratings['movieId'].isin(filtered_movies)]\n",
    "\n",
    "\n",
    "print(\"Initial number of users:\", initial_user_count)\n",
    "print(\"Number of users after filtering:\", filtered_user_count)\n",
    "print(\"Reduction in number of users:\", user_reduction)\n",
    "\n",
    "print(\"\\nInitial number of all ratings:\", initial_ratings_count)\n",
    "print(\"Number of ratings after filtering:\", final_ratings_count)\n",
    "print(\"Reduction in number of ratings:\", ratings_reduction)\n"
   ]
  },
  {
   "cell_type": "code",
   "execution_count": 16,
   "id": "82df1e00-2d34-423e-a3ae-3758be6e76e4",
   "metadata": {},
   "outputs": [
    {
     "name": "stdout",
     "output_type": "stream",
     "text": [
      "<class 'pandas.core.frame.DataFrame'>\n",
      "Index: 39032 entries, 4 to 100003\n",
      "Data columns (total 3 columns):\n",
      " #   Column   Non-Null Count  Dtype  \n",
      "---  ------   --------------  -----  \n",
      " 0   userId   39032 non-null  int64  \n",
      " 1   movieId  39032 non-null  int64  \n",
      " 2   rating   39032 non-null  float64\n",
      "dtypes: float64(1), int64(2)\n",
      "memory usage: 1.2 MB\n"
     ]
    }
   ],
   "source": [
    "# ratings.csv - memory usage: 466.4 MB\n",
    "# ratings_small.csv - memory usage: 1.2 MB\n",
    "ratings_small.info()"
   ]
  },
  {
   "cell_type": "code",
   "execution_count": 17,
   "id": "09b50935-656e-468c-a920-e57336053681",
   "metadata": {},
   "outputs": [],
   "source": [
    "ratings_small['rating'] = 1"
   ]
  },
  {
   "cell_type": "code",
   "execution_count": 18,
   "id": "a8381bcd-09ca-4301-a5fa-07dc6fd79919",
   "metadata": {},
   "outputs": [
    {
     "data": {
      "text/html": [
       "<div>\n",
       "<style scoped>\n",
       "    .dataframe tbody tr th:only-of-type {\n",
       "        vertical-align: middle;\n",
       "    }\n",
       "\n",
       "    .dataframe tbody tr th {\n",
       "        vertical-align: top;\n",
       "    }\n",
       "\n",
       "    .dataframe thead th {\n",
       "        text-align: right;\n",
       "    }\n",
       "</style>\n",
       "<table border=\"1\" class=\"dataframe\">\n",
       "  <thead>\n",
       "    <tr style=\"text-align: right;\">\n",
       "      <th></th>\n",
       "      <th>userId</th>\n",
       "      <th>movieId</th>\n",
       "      <th>rating</th>\n",
       "    </tr>\n",
       "  </thead>\n",
       "  <tbody>\n",
       "    <tr>\n",
       "      <th>699</th>\n",
       "      <td>9</td>\n",
       "      <td>1</td>\n",
       "      <td>1</td>\n",
       "    </tr>\n",
       "    <tr>\n",
       "      <th>889</th>\n",
       "      <td>13</td>\n",
       "      <td>1</td>\n",
       "      <td>1</td>\n",
       "    </tr>\n",
       "    <tr>\n",
       "      <th>3528</th>\n",
       "      <td>20</td>\n",
       "      <td>1</td>\n",
       "      <td>1</td>\n",
       "    </tr>\n",
       "    <tr>\n",
       "      <th>4781</th>\n",
       "      <td>26</td>\n",
       "      <td>1</td>\n",
       "      <td>1</td>\n",
       "    </tr>\n",
       "    <tr>\n",
       "      <th>5048</th>\n",
       "      <td>30</td>\n",
       "      <td>1</td>\n",
       "      <td>1</td>\n",
       "    </tr>\n",
       "    <tr>\n",
       "      <th>6625</th>\n",
       "      <td>37</td>\n",
       "      <td>1</td>\n",
       "      <td>1</td>\n",
       "    </tr>\n",
       "    <tr>\n",
       "      <th>7142</th>\n",
       "      <td>43</td>\n",
       "      <td>1</td>\n",
       "      <td>1</td>\n",
       "    </tr>\n",
       "    <tr>\n",
       "      <th>7252</th>\n",
       "      <td>44</td>\n",
       "      <td>1</td>\n",
       "      <td>1</td>\n",
       "    </tr>\n",
       "    <tr>\n",
       "      <th>7337</th>\n",
       "      <td>47</td>\n",
       "      <td>1</td>\n",
       "      <td>1</td>\n",
       "    </tr>\n",
       "    <tr>\n",
       "      <th>7375</th>\n",
       "      <td>48</td>\n",
       "      <td>1</td>\n",
       "      <td>1</td>\n",
       "    </tr>\n",
       "  </tbody>\n",
       "</table>\n",
       "</div>"
      ],
      "text/plain": [
       "      userId  movieId  rating\n",
       "699        9        1       1\n",
       "889       13        1       1\n",
       "3528      20        1       1\n",
       "4781      26        1       1\n",
       "5048      30        1       1\n",
       "6625      37        1       1\n",
       "7142      43        1       1\n",
       "7252      44        1       1\n",
       "7337      47        1       1\n",
       "7375      48        1       1"
      ]
     },
     "execution_count": 18,
     "metadata": {},
     "output_type": "execute_result"
    }
   ],
   "source": [
    "# Toy Story\n",
    "ratings_small[ratings_small['movieId'] == 1].head(10)"
   ]
  },
  {
   "cell_type": "code",
   "execution_count": 19,
   "id": "72e2b38a-e841-41cf-8695-9b8d5b8ce0fa",
   "metadata": {},
   "outputs": [
    {
     "name": "stdout",
     "output_type": "stream",
     "text": [
      "number of unique users:  671\n",
      "number of unique items:  799\n"
     ]
    }
   ],
   "source": [
    "print(\"number of unique users: \", len(ratings_small['userId'].unique()))\n",
    "print(\"number of unique items: \", len(ratings_small['movieId'].unique()))"
   ]
  },
  {
   "cell_type": "markdown",
   "id": "ce017559-475c-4363-9d06-fb10a8ed3139",
   "metadata": {},
   "source": [
    "#### Prepare ratings based on movies_metadata.csv and links.csv"
   ]
  },
  {
   "cell_type": "code",
   "execution_count": 20,
   "id": "dca860c2-030b-4391-ac7e-2aaafef089af",
   "metadata": {},
   "outputs": [
    {
     "name": "stdout",
     "output_type": "stream",
     "text": [
      "      id  imdb_id                        title\n",
      "0    862   114709                    Toy Story\n",
      "1   8844   113497                      Jumanji\n",
      "2  15602   113228             Grumpier Old Men\n",
      "3  31357   114885            Waiting to Exhale\n",
      "4  11862   113041  Father of the Bride Part II\n",
      "5    949   113277                         Heat\n",
      "6  11860   114319                      Sabrina\n",
      "7  45325   112302                 Tom and Huck\n",
      "8   9091   114576                 Sudden Death\n",
      "9    710   113189                    GoldenEye\n",
      "<class 'pandas.core.frame.DataFrame'>\n",
      "RangeIndex: 45413 entries, 0 to 45412\n",
      "Data columns (total 3 columns):\n",
      " #   Column   Non-Null Count  Dtype \n",
      "---  ------   --------------  ----- \n",
      " 0   id       45413 non-null  int64 \n",
      " 1   imdb_id  45413 non-null  int64 \n",
      " 2   title    45413 non-null  object\n",
      "dtypes: int64(2), object(1)\n",
      "memory usage: 1.0+ MB\n",
      "None\n",
      "\n",
      "\n",
      "Number of films in cleaned_movies_metadata:  45413\n"
     ]
    }
   ],
   "source": [
    "cleaned_movies_metadata = pd.read_csv('data/cleaned_movies_metadata.csv')\n",
    "print(cleaned_movies_metadata.head(10))\n",
    "print(cleaned_movies_metadata.info())\n",
    "\n",
    "print(\"\\n\\nNumber of films in cleaned_movies_metadata: \", cleaned_movies_metadata.shape[0])"
   ]
  },
  {
   "cell_type": "code",
   "execution_count": 21,
   "id": "abfa4acc-b8b8-4a24-abd8-3278e7c8e0d1",
   "metadata": {},
   "outputs": [
    {
     "name": "stdout",
     "output_type": "stream",
     "text": [
      "   movieId  imdbId\n",
      "0        1  114709\n",
      "1        2  113497\n",
      "2        3  113228\n",
      "3        4  114885\n",
      "4        5  113041\n",
      "5        6  113277\n",
      "6        7  114319\n",
      "7        8  112302\n",
      "8        9  114576\n",
      "9       10  113189\n",
      "<class 'pandas.core.frame.DataFrame'>\n",
      "RangeIndex: 45843 entries, 0 to 45842\n",
      "Data columns (total 2 columns):\n",
      " #   Column   Non-Null Count  Dtype\n",
      "---  ------   --------------  -----\n",
      " 0   movieId  45843 non-null  int64\n",
      " 1   imdbId   45843 non-null  int64\n",
      "dtypes: int64(2)\n",
      "memory usage: 716.4 KB\n",
      "None\n",
      "\n",
      "\n",
      "Number of films in cleaned_links:  45843\n"
     ]
    }
   ],
   "source": [
    "cleaned_links = pd.read_csv('data/cleaned_links.csv')\n",
    "print(cleaned_links.head(10))\n",
    "print(cleaned_links.info())\n",
    "\n",
    "print(\"\\n\\nNumber of films in cleaned_links: \", cleaned_links.shape[0])"
   ]
  },
  {
   "cell_type": "markdown",
   "id": "6d3a20af-3b60-496c-a6b4-3e7ec12a04b7",
   "metadata": {},
   "source": [
    "#### Filter links for movies that are in cleaned_movies_metadata beased on imdb_id"
   ]
  },
  {
   "cell_type": "code",
   "execution_count": 22,
   "id": "6ba05376-9d6a-47f3-a56a-4a5749be1a2d",
   "metadata": {},
   "outputs": [
    {
     "name": "stdout",
     "output_type": "stream",
     "text": [
      "   movieId  imdbId\n",
      "0        1  114709\n",
      "1        2  113497\n",
      "2        3  113228\n",
      "3        4  114885\n",
      "4        5  113041\n"
     ]
    }
   ],
   "source": [
    "filtered_links = cleaned_links[cleaned_links['imdbId'].isin(cleaned_movies_metadata['imdb_id'])]\n",
    "print(filtered_links.head())"
   ]
  },
  {
   "cell_type": "code",
   "execution_count": 23,
   "id": "7453db1e-495c-4474-824e-f48e4162665c",
   "metadata": {},
   "outputs": [
    {
     "name": "stdout",
     "output_type": "stream",
     "text": [
      "Number of films in filtered_links:  45350\n"
     ]
    }
   ],
   "source": [
    "print(\"Number of films in filtered_links: \", filtered_links.shape[0])"
   ]
  },
  {
   "cell_type": "markdown",
   "id": "12adf6b3-287b-49e9-9335-4d40b978b09d",
   "metadata": {},
   "source": [
    "#### Filter ratings based on filtred_links"
   ]
  },
  {
   "cell_type": "code",
   "execution_count": 24,
   "id": "e71803c4-3086-42d9-931d-1817df51ade8",
   "metadata": {},
   "outputs": [],
   "source": [
    "filtered_ratings = ratings_small[ratings_small['movieId'].isin(filtered_links['movieId'])]"
   ]
  },
  {
   "cell_type": "code",
   "execution_count": 25,
   "id": "d9b2ba24-5866-44a8-b52f-f04cc1c4c3fa",
   "metadata": {},
   "outputs": [
    {
     "name": "stdout",
     "output_type": "stream",
     "text": [
      "<class 'pandas.core.frame.DataFrame'>\n",
      "Index: 38977 entries, 4 to 100003\n",
      "Data columns (total 3 columns):\n",
      " #   Column   Non-Null Count  Dtype\n",
      "---  ------   --------------  -----\n",
      " 0   userId   38977 non-null  int64\n",
      " 1   movieId  38977 non-null  int64\n",
      " 2   rating   38977 non-null  int64\n",
      "dtypes: int64(3)\n",
      "memory usage: 1.2 MB\n"
     ]
    }
   ],
   "source": [
    "filtered_ratings.info()"
   ]
  },
  {
   "cell_type": "code",
   "execution_count": 26,
   "id": "70c8922b-32d2-4f61-9a75-a89e35f5659e",
   "metadata": {},
   "outputs": [
    {
     "name": "stdout",
     "output_type": "stream",
     "text": [
      "number of unique items:  799\n",
      "number of unique items:  797\n"
     ]
    }
   ],
   "source": [
    "# Before\n",
    "print(\"number of unique items: \", len(ratings_small['movieId'].unique()))\n",
    "\n",
    "# After\n",
    "print(\"number of unique items: \", len(filtered_ratings['movieId'].unique()))"
   ]
  },
  {
   "cell_type": "code",
   "execution_count": 27,
   "id": "ae45873e-f445-4463-86cc-09410fb895cf",
   "metadata": {},
   "outputs": [
    {
     "data": {
      "text/html": [
       "<div>\n",
       "<style scoped>\n",
       "    .dataframe tbody tr th:only-of-type {\n",
       "        vertical-align: middle;\n",
       "    }\n",
       "\n",
       "    .dataframe tbody tr th {\n",
       "        vertical-align: top;\n",
       "    }\n",
       "\n",
       "    .dataframe thead th {\n",
       "        text-align: right;\n",
       "    }\n",
       "</style>\n",
       "<table border=\"1\" class=\"dataframe\">\n",
       "  <thead>\n",
       "    <tr style=\"text-align: right;\">\n",
       "      <th></th>\n",
       "      <th>userId</th>\n",
       "      <th>movieId</th>\n",
       "      <th>rating</th>\n",
       "    </tr>\n",
       "  </thead>\n",
       "  <tbody>\n",
       "    <tr>\n",
       "      <th>4</th>\n",
       "      <td>1</td>\n",
       "      <td>1172</td>\n",
       "      <td>1</td>\n",
       "    </tr>\n",
       "    <tr>\n",
       "      <th>8</th>\n",
       "      <td>1</td>\n",
       "      <td>1339</td>\n",
       "      <td>1</td>\n",
       "    </tr>\n",
       "    <tr>\n",
       "      <th>12</th>\n",
       "      <td>1</td>\n",
       "      <td>1953</td>\n",
       "      <td>1</td>\n",
       "    </tr>\n",
       "    <tr>\n",
       "      <th>13</th>\n",
       "      <td>1</td>\n",
       "      <td>2105</td>\n",
       "      <td>1</td>\n",
       "    </tr>\n",
       "    <tr>\n",
       "      <th>20</th>\n",
       "      <td>2</td>\n",
       "      <td>10</td>\n",
       "      <td>1</td>\n",
       "    </tr>\n",
       "    <tr>\n",
       "      <th>...</th>\n",
       "      <td>...</td>\n",
       "      <td>...</td>\n",
       "      <td>...</td>\n",
       "    </tr>\n",
       "    <tr>\n",
       "      <th>99995</th>\n",
       "      <td>671</td>\n",
       "      <td>5989</td>\n",
       "      <td>1</td>\n",
       "    </tr>\n",
       "    <tr>\n",
       "      <th>99996</th>\n",
       "      <td>671</td>\n",
       "      <td>5991</td>\n",
       "      <td>1</td>\n",
       "    </tr>\n",
       "    <tr>\n",
       "      <th>99997</th>\n",
       "      <td>671</td>\n",
       "      <td>5995</td>\n",
       "      <td>1</td>\n",
       "    </tr>\n",
       "    <tr>\n",
       "      <th>100001</th>\n",
       "      <td>671</td>\n",
       "      <td>6365</td>\n",
       "      <td>1</td>\n",
       "    </tr>\n",
       "    <tr>\n",
       "      <th>100003</th>\n",
       "      <td>671</td>\n",
       "      <td>6565</td>\n",
       "      <td>1</td>\n",
       "    </tr>\n",
       "  </tbody>\n",
       "</table>\n",
       "<p>38977 rows × 3 columns</p>\n",
       "</div>"
      ],
      "text/plain": [
       "        userId  movieId  rating\n",
       "4            1     1172       1\n",
       "8            1     1339       1\n",
       "12           1     1953       1\n",
       "13           1     2105       1\n",
       "20           2       10       1\n",
       "...        ...      ...     ...\n",
       "99995      671     5989       1\n",
       "99996      671     5991       1\n",
       "99997      671     5995       1\n",
       "100001     671     6365       1\n",
       "100003     671     6565       1\n",
       "\n",
       "[38977 rows x 3 columns]"
      ]
     },
     "execution_count": 27,
     "metadata": {},
     "output_type": "execute_result"
    }
   ],
   "source": [
    "filtered_ratings"
   ]
  },
  {
   "cell_type": "code",
   "execution_count": 28,
   "id": "10f48adc-510b-4a38-bdf9-b44d493f84bd",
   "metadata": {},
   "outputs": [],
   "source": [
    "filtered_ratings = filtered_ratings.merge(filtered_links[['movieId', 'imdbId']], on='movieId', how='left')\n",
    "filtered_ratings = filtered_ratings.drop(columns=['movieId'])\n",
    "filtered_ratings = filtered_ratings.rename(columns={'imdbId': 'imdb_id'})"
   ]
  },
  {
   "cell_type": "code",
   "execution_count": 29,
   "id": "22a38e30-76b9-4066-9def-76ae2f5753a7",
   "metadata": {},
   "outputs": [],
   "source": [
    "unique_imdb_ids = filtered_ratings['imdb_id'].unique()\n",
    "imdb_id_to_new_id = {imdb_id: idx for idx, imdb_id in enumerate(unique_imdb_ids)}\n",
    "\n",
    "unique_user_ids = filtered_ratings['userId'].unique()\n",
    "user_id_to_new_id = {user_id: idx for idx, user_id in enumerate(unique_user_ids)}"
   ]
  },
  {
   "cell_type": "code",
   "execution_count": 30,
   "id": "1fe08936-40fa-466c-8d69-5d0a3161b75a",
   "metadata": {},
   "outputs": [],
   "source": [
    "filtered_ratings['new_imdb_id'] = filtered_ratings['imdb_id'].map(imdb_id_to_new_id)\n",
    "filtered_ratings['new_user_id'] = filtered_ratings['userId'].map(user_id_to_new_id)\n",
    "\n",
    "filtered_ratings = filtered_ratings.drop(columns=['imdb_id', 'userId'])\n",
    "filtered_ratings = filtered_ratings.rename(columns={'new_imdb_id': 'movieId', 'new_user_id': 'userId'})\n",
    "\n",
    "filtered_ratings = filtered_ratings[['userId', 'movieId', 'rating']]\n",
    "\n",
    "imdb_id_mapping = pd.DataFrame(list(imdb_id_to_new_id.items()), columns=['imdb_id', 'new_imdb_id'])\n",
    "user_id_mapping = pd.DataFrame(list(user_id_to_new_id.items()), columns=['userId', 'new_user_id'])\n",
    "\n",
    "imdb_id_mapping.to_csv('data/imdb_id_mapping.csv', index=False)\n",
    "user_id_mapping.to_csv('data/user_id_mapping.csv', index=False)\n",
    "\n",
    "filtered_ratings.to_csv('data/filtered_ratings_with_new_ids.csv', index=False)"
   ]
  },
  {
   "cell_type": "code",
   "execution_count": 31,
   "id": "c5ebdd50-608b-41b5-8756-49b75f7619f5",
   "metadata": {},
   "outputs": [
    {
     "data": {
      "text/html": [
       "<div>\n",
       "<style scoped>\n",
       "    .dataframe tbody tr th:only-of-type {\n",
       "        vertical-align: middle;\n",
       "    }\n",
       "\n",
       "    .dataframe tbody tr th {\n",
       "        vertical-align: top;\n",
       "    }\n",
       "\n",
       "    .dataframe thead th {\n",
       "        text-align: right;\n",
       "    }\n",
       "</style>\n",
       "<table border=\"1\" class=\"dataframe\">\n",
       "  <thead>\n",
       "    <tr style=\"text-align: right;\">\n",
       "      <th></th>\n",
       "      <th>userId</th>\n",
       "      <th>movieId</th>\n",
       "      <th>rating</th>\n",
       "    </tr>\n",
       "  </thead>\n",
       "  <tbody>\n",
       "    <tr>\n",
       "      <th>0</th>\n",
       "      <td>0</td>\n",
       "      <td>0</td>\n",
       "      <td>1</td>\n",
       "    </tr>\n",
       "    <tr>\n",
       "      <th>1</th>\n",
       "      <td>0</td>\n",
       "      <td>1</td>\n",
       "      <td>1</td>\n",
       "    </tr>\n",
       "    <tr>\n",
       "      <th>2</th>\n",
       "      <td>0</td>\n",
       "      <td>2</td>\n",
       "      <td>1</td>\n",
       "    </tr>\n",
       "    <tr>\n",
       "      <th>3</th>\n",
       "      <td>0</td>\n",
       "      <td>3</td>\n",
       "      <td>1</td>\n",
       "    </tr>\n",
       "    <tr>\n",
       "      <th>4</th>\n",
       "      <td>1</td>\n",
       "      <td>4</td>\n",
       "      <td>1</td>\n",
       "    </tr>\n",
       "    <tr>\n",
       "      <th>...</th>\n",
       "      <td>...</td>\n",
       "      <td>...</td>\n",
       "      <td>...</td>\n",
       "    </tr>\n",
       "    <tr>\n",
       "      <th>38972</th>\n",
       "      <td>670</td>\n",
       "      <td>282</td>\n",
       "      <td>1</td>\n",
       "    </tr>\n",
       "    <tr>\n",
       "      <th>38973</th>\n",
       "      <td>670</td>\n",
       "      <td>698</td>\n",
       "      <td>1</td>\n",
       "    </tr>\n",
       "    <tr>\n",
       "      <th>38974</th>\n",
       "      <td>670</td>\n",
       "      <td>201</td>\n",
       "      <td>1</td>\n",
       "    </tr>\n",
       "    <tr>\n",
       "      <th>38975</th>\n",
       "      <td>670</td>\n",
       "      <td>626</td>\n",
       "      <td>1</td>\n",
       "    </tr>\n",
       "    <tr>\n",
       "      <th>38976</th>\n",
       "      <td>670</td>\n",
       "      <td>699</td>\n",
       "      <td>1</td>\n",
       "    </tr>\n",
       "  </tbody>\n",
       "</table>\n",
       "<p>38977 rows × 3 columns</p>\n",
       "</div>"
      ],
      "text/plain": [
       "       userId  movieId  rating\n",
       "0           0        0       1\n",
       "1           0        1       1\n",
       "2           0        2       1\n",
       "3           0        3       1\n",
       "4           1        4       1\n",
       "...       ...      ...     ...\n",
       "38972     670      282       1\n",
       "38973     670      698       1\n",
       "38974     670      201       1\n",
       "38975     670      626       1\n",
       "38976     670      699       1\n",
       "\n",
       "[38977 rows x 3 columns]"
      ]
     },
     "execution_count": 31,
     "metadata": {},
     "output_type": "execute_result"
    }
   ],
   "source": [
    "filtered_ratings"
   ]
  },
  {
   "cell_type": "code",
   "execution_count": 32,
   "id": "cb01a3af-573b-453e-9f40-2aa2c1086780",
   "metadata": {},
   "outputs": [
    {
     "name": "stdout",
     "output_type": "stream",
     "text": [
      "<class 'pandas.core.frame.DataFrame'>\n",
      "RangeIndex: 38977 entries, 0 to 38976\n",
      "Data columns (total 3 columns):\n",
      " #   Column   Non-Null Count  Dtype\n",
      "---  ------   --------------  -----\n",
      " 0   userId   38977 non-null  int64\n",
      " 1   movieId  38977 non-null  int64\n",
      " 2   rating   38977 non-null  int64\n",
      "dtypes: int64(3)\n",
      "memory usage: 913.6 KB\n"
     ]
    }
   ],
   "source": [
    "filtered_ratings.info()"
   ]
  },
  {
   "cell_type": "code",
   "execution_count": 36,
   "id": "fc053175-3f66-480a-b5bc-db22a3f6bec0",
   "metadata": {},
   "outputs": [
    {
     "name": "stdout",
     "output_type": "stream",
     "text": [
      "    userId  movieId  rating\n",
      "0        0        0       1\n",
      "1        0        1       1\n",
      "2        0        2       1\n",
      "3        0        3       1\n",
      "4        0        4       0\n",
      "5        0        5       0\n",
      "6        0        6       0\n",
      "7        0        7       0\n",
      "8        0        8       0\n",
      "9        0        9       0\n",
      "10       0       10       0\n",
      "11       0       11       0\n",
      "12       0       12       0\n",
      "13       0       13       0\n",
      "14       0       14       0\n",
      "15       0       15       0\n",
      "16       0       16       0\n",
      "17       0       17       0\n",
      "18       0       18       0\n",
      "19       0       19       0\n"
     ]
    }
   ],
   "source": [
    "unique_users = filtered_ratings['userId'].unique()\n",
    "unique_movies = filtered_ratings['movieId'].unique()\n",
    "\n",
    "full_index = pd.MultiIndex.from_product([unique_users, unique_movies], names=['userId', 'movieId'])\n",
    "full_df = pd.DataFrame(index=full_index).reset_index()\n",
    "\n",
    "full_ratings = pd.merge(full_df, filtered_ratings, on=['userId', 'movieId'], how='left').fillna(0)\n",
    "\n",
    "full_ratings['rating'] = full_ratings['rating'].astype(int)\n",
    "\n",
    "\n",
    "print(full_ratings.head(20))"
   ]
  },
  {
   "cell_type": "code",
   "execution_count": 39,
   "id": "8984874f-114b-4f27-9a19-cc18c03e6976",
   "metadata": {},
   "outputs": [
    {
     "name": "stdout",
     "output_type": "stream",
     "text": [
      "<class 'pandas.core.frame.DataFrame'>\n",
      "RangeIndex: 534787 entries, 0 to 534786\n",
      "Data columns (total 3 columns):\n",
      " #   Column   Non-Null Count   Dtype\n",
      "---  ------   --------------   -----\n",
      " 0   userId   534787 non-null  int64\n",
      " 1   movieId  534787 non-null  int64\n",
      " 2   rating   534787 non-null  int32\n",
      "dtypes: int32(1), int64(2)\n",
      "memory usage: 10.2 MB\n"
     ]
    }
   ],
   "source": [
    "full_ratings.info()"
   ]
  },
  {
   "cell_type": "code",
   "execution_count": 38,
   "id": "b82b69d6-620f-4cce-9cc3-a07511f051e0",
   "metadata": {},
   "outputs": [],
   "source": [
    "full_ratings.to_csv('data/full_ratings.csv', index=False)"
   ]
  }
 ],
 "metadata": {
  "kernelspec": {
   "display_name": "Python (tf_gpu_env)",
   "language": "python",
   "name": "tf_gpu_env"
  },
  "language_info": {
   "codemirror_mode": {
    "name": "ipython",
    "version": 3
   },
   "file_extension": ".py",
   "mimetype": "text/x-python",
   "name": "python",
   "nbconvert_exporter": "python",
   "pygments_lexer": "ipython3",
   "version": "3.8.19"
  }
 },
 "nbformat": 4,
 "nbformat_minor": 5
}
